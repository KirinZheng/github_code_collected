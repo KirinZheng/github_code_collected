{
 "cells": [
  {
   "cell_type": "code",
   "execution_count": null,
   "id": "5e079c34",
   "metadata": {},
   "outputs": [],
   "source": [
    "### spikingjelly 0.0.0.0.14\n"
   ]
  },
  {
   "cell_type": "code",
   "execution_count": 14,
   "id": "f78d638f",
   "metadata": {},
   "outputs": [],
   "source": [
    "from typing import Callable\n",
    "# from spikingjelly.activation_based import surrogate\n",
    "# from spikingjelly.activation_based.neuron import LIFNode\n",
    "from spikingjelly.clock_driven.neuron import LIFNode, MultiStepLIFNode\n",
    "from spikingjelly.clock_driven import surrogate, lava_exchange\n",
    "import logging\n",
    "try:\n",
    "    import cupy\n",
    "    from spikingjelly.clock_driven import neuron_kernel, cu_kernel_opt\n",
    "except BaseException as e:\n",
    "    logging.info(f'spikingjelly.clock_driven.neuron: {e}')\n",
    "    cupy = None\n",
    "    neuron_kernel = None\n",
    "    cu_kernel_opt = None\n",
    "\n",
    "from torch import nn\n",
    "import torch\n",
    "\n",
    "class MultiStepLazyStateLIFNode(MultiStepLIFNode):\n",
    "    \"\"\"\n",
    "    >>>inputs = torch.randn((2, 1, 4))\n",
    "    >>>node = LazyStateLIFNode()\n",
    "    >>>out = node(inputs)\n",
    "    >>>print(node.v)\n",
    "    tensor([[[ 0.1676, -0.3076, -0.1530, -0.1675]],\n",
    "            [[-0.0658, -1.4495, -0.3014, -0.2170]]])\n",
    "    >>>node.reset()\n",
    "    >>>print(node.v)\n",
    "    tensor([[[0.4139, 0.1390, 0.8201, 0.3612]],\n",
    "            [[0.3644, 0.9767, 0.0484, 0.7073]]], grad_fn=<AddBackward0>)\n",
    "    \"\"\"\n",
    "\n",
    "    def __init__(self, tau: float = 2., decay_input: bool = True, v_threshold: float = 1.,\n",
    "                 v_reset: float = 0., surrogate_function: Callable = surrogate.Sigmoid(),\n",
    "                 detach_reset: bool = False, backend='torch', lava_s_cale=1 << 6,\n",
    "                 sigmoid_init=False):\n",
    "        \"\"\"\n",
    "        :param init_state_shape: (B, C, H, W) or (B, N, D)\n",
    "                        x.shape: (T, B, C, H, W) or (T, B, N, D)\n",
    "        \"\"\"\n",
    "        super(MultiStepLazyStateLIFNode, self).__init__(tau, decay_input, v_threshold, v_reset, surrogate_function,\n",
    "                                               detach_reset, backend, lava_s_cale)\n",
    "        self.init_state = None\n",
    "        self.have_init = False\n",
    "        self.init_func = torch.sigmoid if sigmoid_init else lambda x: x\n",
    "\n",
    "    def check_init_state(self, x):\n",
    "        if not self.have_init:\n",
    "            self.init_state = nn.Parameter(nn.init.uniform_(\n",
    "                torch.empty((1, *x.shape[1:]), device=x.device), a=0.4, b=0.6))\n",
    "            self.have_init = True\n",
    "        self.v = torch.broadcast_to(self.init_func(self.init_state), x.shape).to(x)\n",
    "\n",
    "    def forward(self, *args, **kwargs):\n",
    "\n",
    "        x_seq = args[0]  # select first arguments\n",
    "\n",
    "        self.check_init_state(x_seq[0])  # \n",
    "\n",
    "        assert x_seq.dim() > 1\n",
    "        # x_seq.shape = [T, *]\n",
    "\n",
    "        if self.backend == 'torch':\n",
    "            spike_seq = []\n",
    "            self.v_seq = []\n",
    "            for t in range(x_seq.shape[0]):\n",
    "                spike_seq.append(super().forward(x_seq[t]).unsqueeze(0))\n",
    "                self.v_seq.append(self.v.unsqueeze(0))\n",
    "            spike_seq = torch.cat(spike_seq, 0)\n",
    "            self.v_seq = torch.cat(self.v_seq, 0)\n",
    "            return spike_seq\n",
    "\n",
    "        elif self.backend == 'cupy':\n",
    "            if isinstance(self.v, float):\n",
    "                v_init = self.v\n",
    "                self.v = torch.zeros_like(x_seq[0].data)\n",
    "                if v_init != 0.:\n",
    "                    torch.fill_(self.v, v_init)\n",
    "\n",
    "            spike_seq, self.v_seq = neuron_kernel.MultiStepLIFNodePTT.apply(\n",
    "                x_seq.flatten(1), self.v.flatten(0), self.decay_input, self.tau, self.v_threshold, self.v_reset, self.detach_reset, self.surrogate_function.cuda_code)\n",
    "\n",
    "            spike_seq = spike_seq.reshape(x_seq.shape)\n",
    "            self.v_seq = self.v_seq.reshape(x_seq.shape)\n",
    "\n",
    "            self.v = self.v_seq[-1].clone()\n",
    "\n",
    "            return spike_seq\n",
    "\n",
    "        elif self.backend == 'lava':\n",
    "            if self.lava_neuron is None:\n",
    "                self.lava_neuron = self.to_lava()\n",
    "\n",
    "            spike, self.v = lava_exchange.lava_neuron_forward(self.lava_neuron, x_seq, self.v)\n",
    "\n",
    "            return spike\n",
    "\n",
    "        else:\n",
    "            raise NotImplementedError(self.backend)\n",
    "\n",
    "\n",
    "\n",
    "        # if self.step_mode == 's':\n",
    "        #     self.check_init_state(x)\n",
    "        #     return self.single_step_forward(*args, **kwargs)\n",
    "        # elif self.step_mode == 'm':\n",
    "        #     self.check_init_state(x[0])\n",
    "        #     return self.multi_step_forward(*args, **kwargs)\n",
    "        # else:\n",
    "        #     raise ValueError(self.step_mode)"
   ]
  },
  {
   "cell_type": "code",
   "execution_count": 20,
   "id": "ee8f9ca0",
   "metadata": {},
   "outputs": [
    {
     "name": "stdout",
     "output_type": "stream",
     "text": [
      "0.0\n"
     ]
    }
   ],
   "source": [
    "inputs = torch.randn(2, 1, 4)\n",
    "node = MultiStepLazyStateLIFNode()\n",
    "print(node.v)\n"
   ]
  },
  {
   "cell_type": "code",
   "execution_count": 21,
   "id": "45a7edc1",
   "metadata": {},
   "outputs": [
    {
     "data": {
      "text/plain": [
       "torch.Size([2, 1, 4])"
      ]
     },
     "execution_count": 21,
     "metadata": {},
     "output_type": "execute_result"
    }
   ],
   "source": [
    "inputs.shape"
   ]
  },
  {
   "cell_type": "code",
   "execution_count": 16,
   "id": "c77380ee",
   "metadata": {},
   "outputs": [
    {
     "ename": "AttributeError",
     "evalue": "'Tensor' object has no attribute 'append'",
     "output_type": "error",
     "traceback": [
      "\u001b[0;31m---------------------------------------------------------------------------\u001b[0m",
      "\u001b[0;31mAttributeError\u001b[0m                            Traceback (most recent call last)",
      "\u001b[0;32m/tmp/ipykernel_4393/3951509437.py\u001b[0m in \u001b[0;36m<module>\u001b[0;34m\u001b[0m\n\u001b[0;32m----> 1\u001b[0;31m \u001b[0mout\u001b[0m \u001b[0;34m=\u001b[0m \u001b[0mnode\u001b[0m\u001b[0;34m(\u001b[0m\u001b[0minputs\u001b[0m\u001b[0;34m)\u001b[0m\u001b[0;34m\u001b[0m\u001b[0;34m\u001b[0m\u001b[0m\n\u001b[0m\u001b[1;32m      2\u001b[0m \u001b[0mprint\u001b[0m\u001b[0;34m(\u001b[0m\u001b[0mnode\u001b[0m\u001b[0;34m.\u001b[0m\u001b[0mv\u001b[0m\u001b[0;34m)\u001b[0m\u001b[0;34m\u001b[0m\u001b[0;34m\u001b[0m\u001b[0m\n\u001b[1;32m      3\u001b[0m \u001b[0mnode\u001b[0m\u001b[0;34m.\u001b[0m\u001b[0mreset\u001b[0m\u001b[0;34m(\u001b[0m\u001b[0;34m)\u001b[0m\u001b[0;34m\u001b[0m\u001b[0;34m\u001b[0m\u001b[0m\n\u001b[1;32m      4\u001b[0m \u001b[0mprint\u001b[0m\u001b[0;34m(\u001b[0m\u001b[0mnode\u001b[0m\u001b[0;34m.\u001b[0m\u001b[0mv\u001b[0m\u001b[0;34m)\u001b[0m\u001b[0;34m\u001b[0m\u001b[0;34m\u001b[0m\u001b[0m\n",
      "\u001b[0;32m/opt/conda/lib/python3.8/site-packages/torch/nn/modules/module.py\u001b[0m in \u001b[0;36m_call_impl\u001b[0;34m(self, *args, **kwargs)\u001b[0m\n\u001b[1;32m   1499\u001b[0m                 \u001b[0;32mor\u001b[0m \u001b[0m_global_backward_pre_hooks\u001b[0m \u001b[0;32mor\u001b[0m \u001b[0m_global_backward_hooks\u001b[0m\u001b[0;34m\u001b[0m\u001b[0;34m\u001b[0m\u001b[0m\n\u001b[1;32m   1500\u001b[0m                 or _global_forward_hooks or _global_forward_pre_hooks):\n\u001b[0;32m-> 1501\u001b[0;31m             \u001b[0;32mreturn\u001b[0m \u001b[0mforward_call\u001b[0m\u001b[0;34m(\u001b[0m\u001b[0;34m*\u001b[0m\u001b[0margs\u001b[0m\u001b[0;34m,\u001b[0m \u001b[0;34m**\u001b[0m\u001b[0mkwargs\u001b[0m\u001b[0;34m)\u001b[0m\u001b[0;34m\u001b[0m\u001b[0;34m\u001b[0m\u001b[0m\n\u001b[0m\u001b[1;32m   1502\u001b[0m         \u001b[0;31m# Do not call functions when jit is used\u001b[0m\u001b[0;34m\u001b[0m\u001b[0;34m\u001b[0m\u001b[0;34m\u001b[0m\u001b[0m\n\u001b[1;32m   1503\u001b[0m         \u001b[0mfull_backward_hooks\u001b[0m\u001b[0;34m,\u001b[0m \u001b[0mnon_full_backward_hooks\u001b[0m \u001b[0;34m=\u001b[0m \u001b[0;34m[\u001b[0m\u001b[0;34m]\u001b[0m\u001b[0;34m,\u001b[0m \u001b[0;34m[\u001b[0m\u001b[0;34m]\u001b[0m\u001b[0;34m\u001b[0m\u001b[0;34m\u001b[0m\u001b[0m\n",
      "\u001b[0;32m/tmp/ipykernel_4393/2445405767.py\u001b[0m in \u001b[0;36mforward\u001b[0;34m(self, *args, **kwargs)\u001b[0m\n\u001b[1;32m     66\u001b[0m             \u001b[0;32mfor\u001b[0m \u001b[0mt\u001b[0m \u001b[0;32min\u001b[0m \u001b[0mrange\u001b[0m\u001b[0;34m(\u001b[0m\u001b[0mx_seq\u001b[0m\u001b[0;34m.\u001b[0m\u001b[0mshape\u001b[0m\u001b[0;34m[\u001b[0m\u001b[0;36m0\u001b[0m\u001b[0;34m]\u001b[0m\u001b[0;34m)\u001b[0m\u001b[0;34m:\u001b[0m\u001b[0;34m\u001b[0m\u001b[0;34m\u001b[0m\u001b[0m\n\u001b[1;32m     67\u001b[0m                 \u001b[0mspike_seq\u001b[0m\u001b[0;34m.\u001b[0m\u001b[0mappend\u001b[0m\u001b[0;34m(\u001b[0m\u001b[0msuper\u001b[0m\u001b[0;34m(\u001b[0m\u001b[0;34m)\u001b[0m\u001b[0;34m.\u001b[0m\u001b[0mforward\u001b[0m\u001b[0;34m(\u001b[0m\u001b[0mx_seq\u001b[0m\u001b[0;34m[\u001b[0m\u001b[0mt\u001b[0m\u001b[0;34m]\u001b[0m\u001b[0;34m)\u001b[0m\u001b[0;34m.\u001b[0m\u001b[0munsqueeze\u001b[0m\u001b[0;34m(\u001b[0m\u001b[0;36m0\u001b[0m\u001b[0;34m)\u001b[0m\u001b[0;34m)\u001b[0m\u001b[0;34m\u001b[0m\u001b[0;34m\u001b[0m\u001b[0m\n\u001b[0;32m---> 68\u001b[0;31m                 \u001b[0mself\u001b[0m\u001b[0;34m.\u001b[0m\u001b[0mv_seq\u001b[0m\u001b[0;34m.\u001b[0m\u001b[0mappend\u001b[0m\u001b[0;34m(\u001b[0m\u001b[0mself\u001b[0m\u001b[0;34m.\u001b[0m\u001b[0mv\u001b[0m\u001b[0;34m.\u001b[0m\u001b[0munsqueeze\u001b[0m\u001b[0;34m(\u001b[0m\u001b[0;36m0\u001b[0m\u001b[0;34m)\u001b[0m\u001b[0;34m)\u001b[0m\u001b[0;34m\u001b[0m\u001b[0;34m\u001b[0m\u001b[0m\n\u001b[0m\u001b[1;32m     69\u001b[0m             \u001b[0mspike_seq\u001b[0m \u001b[0;34m=\u001b[0m \u001b[0mtorch\u001b[0m\u001b[0;34m.\u001b[0m\u001b[0mcat\u001b[0m\u001b[0;34m(\u001b[0m\u001b[0mspike_seq\u001b[0m\u001b[0;34m,\u001b[0m \u001b[0;36m0\u001b[0m\u001b[0;34m)\u001b[0m\u001b[0;34m\u001b[0m\u001b[0;34m\u001b[0m\u001b[0m\n\u001b[1;32m     70\u001b[0m             \u001b[0mself\u001b[0m\u001b[0;34m.\u001b[0m\u001b[0mv_seq\u001b[0m \u001b[0;34m=\u001b[0m \u001b[0mtorch\u001b[0m\u001b[0;34m.\u001b[0m\u001b[0mcat\u001b[0m\u001b[0;34m(\u001b[0m\u001b[0mself\u001b[0m\u001b[0;34m.\u001b[0m\u001b[0mv_seq\u001b[0m\u001b[0;34m,\u001b[0m \u001b[0;36m0\u001b[0m\u001b[0;34m)\u001b[0m\u001b[0;34m\u001b[0m\u001b[0;34m\u001b[0m\u001b[0m\n",
      "\u001b[0;31mAttributeError\u001b[0m: 'Tensor' object has no attribute 'append'"
     ]
    }
   ],
   "source": [
    "out = node(inputs)\n",
    "print(node.v)\n",
    "node.reset()\n",
    "print(node.v)"
   ]
  },
  {
   "cell_type": "code",
   "execution_count": 5,
   "id": "9b5bc6db",
   "metadata": {},
   "outputs": [
    {
     "name": "stdout",
     "output_type": "stream",
     "text": [
      "torch.Size([3, 2, 4])\n",
      "torch.Size([2, 4])\n"
     ]
    }
   ],
   "source": [
    "def ttt(*args):\n",
    "    x = args[0]\n",
    "    print(x.shape)\n",
    "    print(x[0].shape)\n",
    "\n",
    "import torch\n",
    "tmp = torch.randn(3,2,4)\n",
    "\n",
    "ttt(tmp)"
   ]
  },
  {
   "cell_type": "code",
   "execution_count": null,
   "id": "1f15f966",
   "metadata": {},
   "outputs": [],
   "source": [
    "from spikingjelly.clock_driven.neuron import MultiStepLIFNode\n",
    "\n",
    "tmp_lif = MultiStepLIFNode(tau=2.0, detach_reset=True, backend='torch')\n",
    "\n",
    "input_tt = torch.randn(3,2,4)\n",
    "\n",
    "output_tt = tmp_lif(input_tt)"
   ]
  }
 ],
 "metadata": {
  "kernelspec": {
   "display_name": "base",
   "language": "python",
   "name": "python3"
  },
  "language_info": {
   "codemirror_mode": {
    "name": "ipython",
    "version": 3
   },
   "file_extension": ".py",
   "mimetype": "text/x-python",
   "name": "python",
   "nbconvert_exporter": "python",
   "pygments_lexer": "ipython3",
   "version": "3.8.12"
  }
 },
 "nbformat": 4,
 "nbformat_minor": 5
}
